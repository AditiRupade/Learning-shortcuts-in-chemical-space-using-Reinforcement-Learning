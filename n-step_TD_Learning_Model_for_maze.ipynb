{
 "cells": [
  {
   "cell_type": "code",
   "execution_count": 1,
   "id": "f95a922d",
   "metadata": {},
   "outputs": [
    {
     "name": "stdout",
     "output_type": "stream",
     "text": [
      "pygame 2.4.0 (SDL 2.26.4, Python 3.8.8)\n",
      "Hello from the pygame community. https://www.pygame.org/contribute.html\n"
     ]
    }
   ],
   "source": [
    "import pygame\n",
    "import numpy as np\n",
    "import sys\n",
    "import matplotlib.pyplot as plt"
   ]
  },
  {
   "cell_type": "code",
   "execution_count": 2,
   "id": "b48106f0",
   "metadata": {},
   "outputs": [],
   "source": [
    "def create_maze(dim, num_of_walls):\n",
    "    # Define the maze\n",
    "    maze = np.zeros((dim,dim))\n",
    "\n",
    "    #Select random walls\n",
    "    for i in range(num_of_walls):\n",
    "        a,b = np.random.random_integers(1,dim-2,2)\n",
    "        maze[a,b] = 1\n",
    "\n",
    "    # Define the goal state\n",
    "    maze[dim-1, dim-1] = 2\n",
    "    goal_state = (dim-1, dim-1)\n",
    "    return maze, goal_state"
   ]
  },
  {
   "cell_type": "code",
   "execution_count": 3,
   "id": "f4588a76",
   "metadata": {},
   "outputs": [],
   "source": [
    "# Define the actions and their corresponding changes in position\n",
    "actions = ['up', 'down', 'left', 'right']\n",
    "action_deltas = [(-1, 0), (1, 0), (0, -1), (0, 1)]"
   ]
  },
  {
   "cell_type": "code",
   "execution_count": 4,
   "id": "2763d988",
   "metadata": {},
   "outputs": [],
   "source": [
    "# Define the rewards for each state\n",
    "rewards = {\n",
    "    0: -1,   # Maze cell\n",
    "    1: -2,   # Wall\n",
    "    2: 10    # Goal\n",
    "}"
   ]
  },
  {
   "cell_type": "code",
   "execution_count": 5,
   "id": "4d648670",
   "metadata": {},
   "outputs": [],
   "source": [
    "# Define a function to choose an action using the epsilon-greedy policy\n",
    "def choose_action(state, epsilon):\n",
    "    if np.random.random() < epsilon:\n",
    "        # Choose a random action\n",
    "        return actions[np.random.randint(0, len(actions))]\n",
    "    else:\n",
    "        # Choose the action with the highest Q-value\n",
    "        return actions[np.argmax(Q[state[0], state[1]])]"
   ]
  },
  {
   "cell_type": "code",
   "execution_count": 31,
   "id": "a7e1711d",
   "metadata": {},
   "outputs": [],
   "source": [
    "def update_q_value_n_step(state_n, action_n, G, alpha):\n",
    "    old_q_value = Q[state_n[0], state_n[1], actions.index(action_n)]\n",
    "    new_q_value = old_q_value + alpha * (G - old_q_value)\n",
    "    Q[state_n[0], state_n[1], actions.index(action_n)] = new_q_value"
   ]
  },
  {
   "cell_type": "code",
   "execution_count": 32,
   "id": "f7884a80",
   "metadata": {},
   "outputs": [],
   "source": [
    "def calculate_n_step_return(transitions, gamma, n_steps):\n",
    "    n = len(transitions)\n",
    "    G = 0\n",
    "\n",
    "    for i in range(n):\n",
    "        if i + n_steps < n:\n",
    "            G += transitions[i][2] * (gamma ** i)\n",
    "        else:\n",
    "            G += transitions[i][2] * (gamma ** i)\n",
    "\n",
    "    if n >= n_steps:\n",
    "        G += (gamma ** n_steps) * transitions[n_steps - 1][2]\n",
    "\n",
    "    return G"
   ]
  },
  {
   "cell_type": "code",
   "execution_count": 33,
   "id": "3337a8cc",
   "metadata": {},
   "outputs": [],
   "source": [
    "#Define the colors to use\n",
    "BLACK = (0, 0, 0)\n",
    "WHITE = (255, 255, 255)\n",
    "RED = (255, 0, 0)\n",
    "GREEN = (0, 255, 0)\n",
    "BLUE = (0, 0, 255)\n",
    "YELLOW = (255,255,0)"
   ]
  },
  {
   "cell_type": "code",
   "execution_count": 39,
   "id": "62955092",
   "metadata": {},
   "outputs": [],
   "source": [
    "# Define a function to simulate an episode for n-td learning method\n",
    "def run_episode_n_td(alpha, gamma, epsilon, n_steps, training=True):\n",
    "    \n",
    "    # Choose a random starting state that is not the goal state\n",
    "    state = (np.random.randint(0, maze.shape[0]), np.random.randint(0, maze.shape[1]))\n",
    "\n",
    "    while state == goal_state:\n",
    "        state = (np.random.randint(0, maze.shape[0]), np.random.randint(0, maze.shape[1]))\n",
    "    \n",
    "    init = state\n",
    "    \n",
    "    if training == False:\n",
    "        # Clear the screen\n",
    "        screen.fill(WHITE)\n",
    "\n",
    "        # Draw the maze and the goal\n",
    "        for i in range(maze.shape[0]):\n",
    "            for j in range(maze.shape[1]):\n",
    "                rect = pygame.Rect(j*cell_size, i*cell_size, cell_size, cell_size)\n",
    "                if i == init[0] and j == init[1]: #Start cell\n",
    "                    pygame.draw.rect(screen, YELLOW, rect)\n",
    "                    pygame.draw.circle(screen, RED, (state[1]*cell_size+25,state[0]*cell_size+25), 5)\n",
    "                elif maze[i,j] == 0:  # Maze cell\n",
    "                    pygame.draw.rect(screen, BLACK, rect)\n",
    "                elif maze[i,j] == 1:  #Wall\n",
    "                    pygame.draw.rect(screen, BLUE, rect)\n",
    "                elif maze[i,j] == 2: #Goal\n",
    "                    pygame.draw.rect(screen, GREEN, rect)\n",
    "    \n",
    "    # Choose the first action using an epsilon-greedy policy\n",
    "    action = choose_action(state, epsilon)\n",
    "    \n",
    "    # Initialize the total reward\n",
    "    episode_reward = 0\n",
    "    done = False\n",
    "    \n",
    "    # Initialize a list to store the n-step transitions\n",
    "    transitions = []\n",
    "    \n",
    "    while state != goal_state:\n",
    "        # Move to the next state\n",
    "        delta = action_deltas[actions.index(action)]\n",
    "        next_state = (state[0]+delta[0], state[1]+delta[1])\n",
    "        \n",
    "        # If the next state is outside the maze, set it to the current state\n",
    "        if next_state[0] < 0 or next_state[0] >= maze.shape[0] or next_state[1] < 0 or next_state[1] >= maze.shape[1]:\n",
    "            next_state = state\n",
    "            # Update reward as the action taken hit the border of the wall\n",
    "            episode_reward += rewards[1]\n",
    "        \n",
    "        # Get the reward for the next state\n",
    "        reward = rewards[maze[next_state[0], next_state[1]]]\n",
    "        \n",
    "        next_action = choose_action(next_state, epsilon)\n",
    "\n",
    "        # Store the transition in the list\n",
    "        transitions.append((state, action, reward))\n",
    "\n",
    "        # Perform n-step updates\n",
    "        if len(transitions) >= n_steps:\n",
    "            G = calculate_n_step_return(transitions, gamma, n_steps)\n",
    "\n",
    "            # Get the state and action n steps ago\n",
    "            state_n, action_n, _ = transitions.pop(0)\n",
    "            # Update the Q-value for the state-action pair\n",
    "            update_q_value_n_step(state_n, action_n, G, alpha)\n",
    "        \n",
    "        # Update the episode reward\n",
    "        episode_reward += reward\n",
    "        state = next_state\n",
    "        action = next_action\n",
    "        \n",
    "        if training == False:\n",
    "            # Draw the current state of the agent\n",
    "            for i in range(maze.shape[0]):\n",
    "                for j in range(maze.shape[1]):\n",
    "                    if i == state[0] and j == state[1]: #Next cell\n",
    "                        pygame.draw.circle(screen, RED, (state[1]*cell_size+25,state[0]*cell_size+25), 5)\n",
    "\n",
    "    # Perform remaining n-step updates for incomplete episodes\n",
    "    while len(transitions) > 0:\n",
    "        G = sum(reward * (gamma ** i) for i, (_, _, reward) in enumerate(transitions))\n",
    "        state_n, action_n, _ = transitions.pop(0)\n",
    "        update_q_value_n_step(state_n, action_n, G, alpha)\n",
    "\n",
    "    return episode_reward"
   ]
  },
  {
   "cell_type": "code",
   "execution_count": 40,
   "id": "9789d178",
   "metadata": {},
   "outputs": [
    {
     "name": "stdout",
     "output_type": "stream",
     "text": [
      "Episode 1: Total Reward = -499\n",
      "Episode 2: Total Reward = 5\n",
      "Episode 3: Total Reward = 10\n",
      "Episode 4: Total Reward = -36\n",
      "Episode 5: Total Reward = -43\n",
      "Episode 6: Total Reward = 1\n",
      "Episode 7: Total Reward = -8\n",
      "Episode 8: Total Reward = -134\n",
      "Episode 9: Total Reward = -226\n",
      "Episode 10: Total Reward = 8\n",
      "Episode 11: Total Reward = 1\n",
      "Episode 12: Total Reward = -78\n",
      "Episode 13: Total Reward = -7\n",
      "Episode 14: Total Reward = -54\n",
      "Episode 15: Total Reward = -129\n",
      "Episode 16: Total Reward = 4\n",
      "Episode 17: Total Reward = -100\n",
      "Episode 18: Total Reward = -56\n",
      "Episode 19: Total Reward = -29\n",
      "Episode 20: Total Reward = -45\n",
      "Episode 21: Total Reward = 0\n",
      "Episode 22: Total Reward = 9\n",
      "Episode 23: Total Reward = 7\n",
      "Episode 24: Total Reward = 7\n",
      "Episode 25: Total Reward = 3\n",
      "Episode 26: Total Reward = 7\n",
      "Episode 27: Total Reward = -65\n",
      "Episode 28: Total Reward = -23\n",
      "Episode 29: Total Reward = -133\n",
      "Episode 30: Total Reward = 7\n",
      "Episode 31: Total Reward = -17\n",
      "Episode 32: Total Reward = -15\n",
      "Episode 33: Total Reward = -11\n",
      "Episode 34: Total Reward = -99\n",
      "Episode 35: Total Reward = 2\n",
      "Episode 36: Total Reward = -9\n",
      "Episode 37: Total Reward = -10\n",
      "Episode 38: Total Reward = 4\n",
      "Episode 39: Total Reward = -93\n",
      "Episode 40: Total Reward = -20\n",
      "Episode 41: Total Reward = -15\n",
      "Episode 42: Total Reward = 8\n",
      "Episode 43: Total Reward = 7\n",
      "Episode 44: Total Reward = 10\n",
      "Episode 45: Total Reward = 1\n",
      "Episode 46: Total Reward = -125\n",
      "Episode 47: Total Reward = 4\n",
      "Episode 48: Total Reward = 10\n",
      "Episode 49: Total Reward = 10\n",
      "Episode 50: Total Reward = -47\n",
      "Episode 51: Total Reward = -49\n",
      "Episode 52: Total Reward = -14\n",
      "Episode 53: Total Reward = -293\n",
      "Episode 54: Total Reward = -49\n",
      "Episode 55: Total Reward = 10\n",
      "Episode 56: Total Reward = -3\n",
      "Episode 57: Total Reward = 6\n",
      "Episode 58: Total Reward = 8\n",
      "Episode 59: Total Reward = 8\n",
      "Episode 60: Total Reward = -32\n",
      "Episode 61: Total Reward = -276\n",
      "Episode 62: Total Reward = -72\n",
      "Episode 63: Total Reward = -52\n",
      "Episode 64: Total Reward = -94\n",
      "Episode 65: Total Reward = -8\n",
      "Episode 66: Total Reward = 9\n",
      "Episode 67: Total Reward = 10\n",
      "Episode 68: Total Reward = -163\n",
      "Episode 69: Total Reward = -4\n",
      "Episode 70: Total Reward = 10\n",
      "Episode 71: Total Reward = -10\n",
      "Episode 72: Total Reward = -215\n",
      "Episode 73: Total Reward = 8\n",
      "Episode 74: Total Reward = -4\n",
      "Episode 75: Total Reward = 9\n",
      "Episode 76: Total Reward = -105\n",
      "Episode 77: Total Reward = -43\n",
      "Episode 78: Total Reward = -55\n",
      "Episode 79: Total Reward = 3\n",
      "Episode 80: Total Reward = 8\n",
      "Episode 81: Total Reward = 8\n",
      "Episode 82: Total Reward = 8\n",
      "Episode 83: Total Reward = -21\n",
      "Episode 84: Total Reward = 10\n",
      "Episode 85: Total Reward = -27\n",
      "Episode 86: Total Reward = 5\n",
      "Episode 87: Total Reward = -58\n",
      "Episode 88: Total Reward = -198\n",
      "Episode 89: Total Reward = -635\n",
      "Episode 90: Total Reward = -99\n",
      "Episode 91: Total Reward = 8\n",
      "Episode 92: Total Reward = 8\n",
      "Episode 93: Total Reward = 10\n",
      "Episode 94: Total Reward = -121\n",
      "Episode 95: Total Reward = 6\n",
      "Episode 96: Total Reward = -1198\n",
      "Episode 97: Total Reward = -6\n",
      "Episode 98: Total Reward = -266\n",
      "Episode 99: Total Reward = -72\n",
      "Episode 100: Total Reward = 9\n"
     ]
    },
    {
     "name": "stderr",
     "output_type": "stream",
     "text": [
      "<ipython-input-2-bea743fbf7ae>:7: DeprecationWarning: This function is deprecated. Please call randint(1, 3 + 1) instead\n",
      "  a,b = np.random.random_integers(1,dim-2,2)\n"
     ]
    }
   ],
   "source": [
    "# Train the agent for the specified number of episodes\n",
    "alpha = 0.5\n",
    "gamma = 0.9\n",
    "epsilon = 0.2\n",
    "\n",
    "# Create Maze\n",
    "maze, goal_state = create_maze(dim=5, num_of_walls=10)\n",
    "\n",
    "# Initialize the Q-matrix with zeros\n",
    "Q = np.zeros((maze.shape[0], maze.shape[1], 4))\n",
    "\n",
    "for i in range(100):\n",
    "    total_reward = run_episode_n_td(alpha, gamma, epsilon, 3)\n",
    "    \n",
    "    # Print the total reward for the episode\n",
    "    print(f\"Episode {i+1}: Total Reward = {total_reward}\")"
   ]
  },
  {
   "cell_type": "code",
   "execution_count": 41,
   "id": "9451f214",
   "metadata": {},
   "outputs": [
    {
     "name": "stdout",
     "output_type": "stream",
     "text": [
      "Episode 1: Total Reward = 5\n",
      "Episode 2: Total Reward = 6\n",
      "Episode 3: Total Reward = 9\n",
      "Episode 4: Total Reward = -36\n",
      "Episode 5: Total Reward = -50\n",
      "Episode 6: Total Reward = 7\n",
      "Episode 7: Total Reward = -78\n",
      "Episode 8: Total Reward = -12\n",
      "Episode 9: Total Reward = -2734\n",
      "Episode 10: Total Reward = -22\n"
     ]
    },
    {
     "ename": "SystemExit",
     "evalue": "",
     "output_type": "error",
     "traceback": [
      "An exception has occurred, use %tb to see the full traceback.\n",
      "\u001b[1;31mSystemExit\u001b[0m\n"
     ]
    }
   ],
   "source": [
    "#Initialize Pygame\n",
    "pygame.init()\n",
    "\n",
    "#Define the size of each cell in the maze and the size of the window\n",
    "cell_size = 50\n",
    "window_size = (maze.shape[1]*cell_size, maze.shape[0]*cell_size)\n",
    "\n",
    "#Create the window\n",
    "screen = pygame.display.set_mode(window_size)\n",
    "pygame.display.set_caption(\"Maze\")\n",
    "clock = pygame.time.Clock()\n",
    "\n",
    "# Test the agent for the specified number of episodes\n",
    "for i in range(10):\n",
    "    total_reward = run_episode_n_td(alpha, gamma, epsilon, 3, training=False)\n",
    "    \n",
    "    # Print the total reward for the episode\n",
    "    print(f\"Episode {i+1}: Total Reward = {total_reward}\")\n",
    "    \n",
    "    # Update the Pygame window\n",
    "    pygame.display.flip()\n",
    "    \n",
    "    # Pause briefly to allow the user to see the visualization\n",
    "    pygame.time.wait(3000)\n",
    "\n",
    "# Wait for the user to close the Pygame window\n",
    "while True:\n",
    "    for event in pygame.event.get():\n",
    "        if event.type == pygame.QUIT:\n",
    "            pygame.quit()\n",
    "            sys.exit()"
   ]
  },
  {
   "cell_type": "code",
   "execution_count": 47,
   "id": "fef59346",
   "metadata": {},
   "outputs": [
    {
     "name": "stderr",
     "output_type": "stream",
     "text": [
      "<ipython-input-2-bea743fbf7ae>:7: DeprecationWarning: This function is deprecated. Please call randint(1, 3 + 1) instead\n",
      "  a,b = np.random.random_integers(1,dim-2,2)\n"
     ]
    },
    {
     "data": {
      "image/png": "[encoded data removed]",
      "text/plain": [
       "<Figure size 432x288 with 1 Axes>"
      ]
     },
     "metadata": {
      "needs_background": "light"
     },
     "output_type": "display_data"
    }
   ],
   "source": [
    "#For 5X5 maze\n",
    "\n",
    "maze, goal_state = create_maze(5,10)\n",
    "\n",
    "num_of_episodes = np.arange(0,50,5)\n",
    "num_of_episodes[0] = 1\n",
    "max_Q = np.zeros(len(num_of_episodes), dtype=float)\n",
    "\n",
    "alpha = [0.5,0.5,0.5,0.5,0.5,0.5,0.8,1,1]\n",
    "gamma = [0.9,0.9,0.9,0.9,1,1,0.9,0.9,0.9]\n",
    "epsilon = [0.1,0.3,0.5,1,0.5,1,0.5,0.5,1]\n",
    "\n",
    "plt.figure()\n",
    "for m in range(len(alpha)):\n",
    "    for i in range(len(num_of_episodes)):\n",
    "        # Initialize the Q-matrix with zeros\n",
    "        Q = np.zeros((maze.shape[0], maze.shape[1], 4))\n",
    "\n",
    "        # Train the agent for the specified number of episodes\n",
    "        for j in range(num_of_episodes[i]):\n",
    "            _ = run_episode_n_td(alpha[m], gamma[m], epsilon[m], 3, training=True)\n",
    "\n",
    "        #Get maximum value of Q\n",
    "        max_Q[i] = Q.max()\n",
    "    plt.plot(num_of_episodes, max_Q, label = 'alpha = {}, gamma = {}, epsilon = {}'.format(alpha[m], gamma[m], epsilon[m]))\n",
    "\n",
    "plt.legend(loc=(1.04,0.3))\n",
    "plt.title('N-step model for 5 X 5 Maze')\n",
    "plt.xlabel('Number of Episodes')\n",
    "plt.ylabel('Maximum of Q')\n",
    "plt.show()"
   ]
  },
  {
   "cell_type": "code",
   "execution_count": 49,
   "id": "47820fc5",
   "metadata": {},
   "outputs": [
    {
     "name": "stderr",
     "output_type": "stream",
     "text": [
      "<ipython-input-2-bea743fbf7ae>:7: DeprecationWarning: This function is deprecated. Please call randint(1, 8 + 1) instead\n",
      "  a,b = np.random.random_integers(1,dim-2,2)\n"
     ]
    },
    {
     "ename": "KeyboardInterrupt",
     "evalue": "",
     "output_type": "error",
     "traceback": [
      "\u001b[1;31m---------------------------------------------------------------------------\u001b[0m",
      "\u001b[1;31mKeyboardInterrupt\u001b[0m                         Traceback (most recent call last)",
      "\u001b[1;32m<ipython-input-49-86a0b6d4acfd>\u001b[0m in \u001b[0;36m<module>\u001b[1;34m\u001b[0m\n\u001b[0;32m     18\u001b[0m         \u001b[1;31m# Train the agent for the specified number of episodes\u001b[0m\u001b[1;33m\u001b[0m\u001b[1;33m\u001b[0m\u001b[1;33m\u001b[0m\u001b[0m\n\u001b[0;32m     19\u001b[0m         \u001b[1;32mfor\u001b[0m \u001b[0mj\u001b[0m \u001b[1;32min\u001b[0m \u001b[0mrange\u001b[0m\u001b[1;33m(\u001b[0m\u001b[0mnum_of_episodes\u001b[0m\u001b[1;33m[\u001b[0m\u001b[0mi\u001b[0m\u001b[1;33m]\u001b[0m\u001b[1;33m)\u001b[0m\u001b[1;33m:\u001b[0m\u001b[1;33m\u001b[0m\u001b[1;33m\u001b[0m\u001b[0m\n\u001b[1;32m---> 20\u001b[1;33m             \u001b[0m_\u001b[0m \u001b[1;33m=\u001b[0m \u001b[0mrun_episode_n_td\u001b[0m\u001b[1;33m(\u001b[0m\u001b[0malpha\u001b[0m\u001b[1;33m[\u001b[0m\u001b[0mm\u001b[0m\u001b[1;33m]\u001b[0m\u001b[1;33m,\u001b[0m \u001b[0mgamma\u001b[0m\u001b[1;33m[\u001b[0m\u001b[0mm\u001b[0m\u001b[1;33m]\u001b[0m\u001b[1;33m,\u001b[0m \u001b[0mepsilon\u001b[0m\u001b[1;33m[\u001b[0m\u001b[0mm\u001b[0m\u001b[1;33m]\u001b[0m\u001b[1;33m,\u001b[0m \u001b[1;36m3\u001b[0m\u001b[1;33m,\u001b[0m \u001b[0mtraining\u001b[0m\u001b[1;33m=\u001b[0m\u001b[1;32mTrue\u001b[0m\u001b[1;33m)\u001b[0m\u001b[1;33m\u001b[0m\u001b[1;33m\u001b[0m\u001b[0m\n\u001b[0m\u001b[0;32m     21\u001b[0m \u001b[1;33m\u001b[0m\u001b[0m\n\u001b[0;32m     22\u001b[0m         \u001b[1;31m#Get maximum value of Q\u001b[0m\u001b[1;33m\u001b[0m\u001b[1;33m\u001b[0m\u001b[1;33m\u001b[0m\u001b[0m\n",
      "\u001b[1;32m<ipython-input-39-c22c0e6919e1>\u001b[0m in \u001b[0;36mrun_episode_n_td\u001b[1;34m(alpha, gamma, epsilon, n_steps, training)\u001b[0m\n\u001b[0;32m     52\u001b[0m         \u001b[0mreward\u001b[0m \u001b[1;33m=\u001b[0m \u001b[0mrewards\u001b[0m\u001b[1;33m[\u001b[0m\u001b[0mmaze\u001b[0m\u001b[1;33m[\u001b[0m\u001b[0mnext_state\u001b[0m\u001b[1;33m[\u001b[0m\u001b[1;36m0\u001b[0m\u001b[1;33m]\u001b[0m\u001b[1;33m,\u001b[0m \u001b[0mnext_state\u001b[0m\u001b[1;33m[\u001b[0m\u001b[1;36m1\u001b[0m\u001b[1;33m]\u001b[0m\u001b[1;33m]\u001b[0m\u001b[1;33m]\u001b[0m\u001b[1;33m\u001b[0m\u001b[1;33m\u001b[0m\u001b[0m\n\u001b[0;32m     53\u001b[0m \u001b[1;33m\u001b[0m\u001b[0m\n\u001b[1;32m---> 54\u001b[1;33m         \u001b[0mnext_action\u001b[0m \u001b[1;33m=\u001b[0m \u001b[0mchoose_action\u001b[0m\u001b[1;33m(\u001b[0m\u001b[0mnext_state\u001b[0m\u001b[1;33m,\u001b[0m \u001b[0mepsilon\u001b[0m\u001b[1;33m)\u001b[0m\u001b[1;33m\u001b[0m\u001b[1;33m\u001b[0m\u001b[0m\n\u001b[0m\u001b[0;32m     55\u001b[0m \u001b[1;33m\u001b[0m\u001b[0m\n\u001b[0;32m     56\u001b[0m         \u001b[1;31m# Store the transition in the list\u001b[0m\u001b[1;33m\u001b[0m\u001b[1;33m\u001b[0m\u001b[1;33m\u001b[0m\u001b[0m\n",
      "\u001b[1;32m<ipython-input-5-33e0c1fc72f6>\u001b[0m in \u001b[0;36mchoose_action\u001b[1;34m(state, epsilon)\u001b[0m\n\u001b[0;32m      6\u001b[0m     \u001b[1;32melse\u001b[0m\u001b[1;33m:\u001b[0m\u001b[1;33m\u001b[0m\u001b[1;33m\u001b[0m\u001b[0m\n\u001b[0;32m      7\u001b[0m         \u001b[1;31m# Choose the action with the highest Q-value\u001b[0m\u001b[1;33m\u001b[0m\u001b[1;33m\u001b[0m\u001b[1;33m\u001b[0m\u001b[0m\n\u001b[1;32m----> 8\u001b[1;33m         \u001b[1;32mreturn\u001b[0m \u001b[0mactions\u001b[0m\u001b[1;33m[\u001b[0m\u001b[0mnp\u001b[0m\u001b[1;33m.\u001b[0m\u001b[0margmax\u001b[0m\u001b[1;33m(\u001b[0m\u001b[0mQ\u001b[0m\u001b[1;33m[\u001b[0m\u001b[0mstate\u001b[0m\u001b[1;33m[\u001b[0m\u001b[1;36m0\u001b[0m\u001b[1;33m]\u001b[0m\u001b[1;33m,\u001b[0m \u001b[0mstate\u001b[0m\u001b[1;33m[\u001b[0m\u001b[1;36m1\u001b[0m\u001b[1;33m]\u001b[0m\u001b[1;33m]\u001b[0m\u001b[1;33m)\u001b[0m\u001b[1;33m]\u001b[0m\u001b[1;33m\u001b[0m\u001b[1;33m\u001b[0m\u001b[0m\n\u001b[0m",
      "\u001b[1;32m<__array_function__ internals>\u001b[0m in \u001b[0;36margmax\u001b[1;34m(*args, **kwargs)\u001b[0m\n",
      "\u001b[1;32m~\\anaconda3\\lib\\site-packages\\numpy\\core\\fromnumeric.py\u001b[0m in \u001b[0;36margmax\u001b[1;34m(a, axis, out)\u001b[0m\n\u001b[0;32m   1191\u001b[0m \u001b[1;33m\u001b[0m\u001b[0m\n\u001b[0;32m   1192\u001b[0m     \"\"\"\n\u001b[1;32m-> 1193\u001b[1;33m     \u001b[1;32mreturn\u001b[0m \u001b[0m_wrapfunc\u001b[0m\u001b[1;33m(\u001b[0m\u001b[0ma\u001b[0m\u001b[1;33m,\u001b[0m \u001b[1;34m'argmax'\u001b[0m\u001b[1;33m,\u001b[0m \u001b[0maxis\u001b[0m\u001b[1;33m=\u001b[0m\u001b[0maxis\u001b[0m\u001b[1;33m,\u001b[0m \u001b[0mout\u001b[0m\u001b[1;33m=\u001b[0m\u001b[0mout\u001b[0m\u001b[1;33m)\u001b[0m\u001b[1;33m\u001b[0m\u001b[1;33m\u001b[0m\u001b[0m\n\u001b[0m\u001b[0;32m   1194\u001b[0m \u001b[1;33m\u001b[0m\u001b[0m\n\u001b[0;32m   1195\u001b[0m \u001b[1;33m\u001b[0m\u001b[0m\n",
      "\u001b[1;32m~\\anaconda3\\lib\\site-packages\\numpy\\core\\fromnumeric.py\u001b[0m in \u001b[0;36m_wrapfunc\u001b[1;34m(obj, method, *args, **kwds)\u001b[0m\n\u001b[0;32m     56\u001b[0m \u001b[1;33m\u001b[0m\u001b[0m\n\u001b[0;32m     57\u001b[0m     \u001b[1;32mtry\u001b[0m\u001b[1;33m:\u001b[0m\u001b[1;33m\u001b[0m\u001b[1;33m\u001b[0m\u001b[0m\n\u001b[1;32m---> 58\u001b[1;33m         \u001b[1;32mreturn\u001b[0m \u001b[0mbound\u001b[0m\u001b[1;33m(\u001b[0m\u001b[1;33m*\u001b[0m\u001b[0margs\u001b[0m\u001b[1;33m,\u001b[0m \u001b[1;33m**\u001b[0m\u001b[0mkwds\u001b[0m\u001b[1;33m)\u001b[0m\u001b[1;33m\u001b[0m\u001b[1;33m\u001b[0m\u001b[0m\n\u001b[0m\u001b[0;32m     59\u001b[0m     \u001b[1;32mexcept\u001b[0m \u001b[0mTypeError\u001b[0m\u001b[1;33m:\u001b[0m\u001b[1;33m\u001b[0m\u001b[1;33m\u001b[0m\u001b[0m\n\u001b[0;32m     60\u001b[0m         \u001b[1;31m# A TypeError occurs if the object does have such a method in its\u001b[0m\u001b[1;33m\u001b[0m\u001b[1;33m\u001b[0m\u001b[1;33m\u001b[0m\u001b[0m\n",
      "\u001b[1;31mKeyboardInterrupt\u001b[0m: "
     ]
    },
    {
     "data": {
      "text/plain": [
       "<Figure size 432x288 with 0 Axes>"
      ]
     },
     "metadata": {},
     "output_type": "display_data"
    }
   ],
   "source": [
    "#For 10X10 maze\n",
    "dim=10\n",
    "maze, goal_state = create_maze(dim,15)\n",
    "num_of_episodes = np.arange(0,30,5)\n",
    "num_of_episodes[0] = 1\n",
    "max_Q = np.zeros(len(num_of_episodes), dtype=float)\n",
    "\n",
    "alpha = [0.5,0.5,0.5,0.5,0.5,0.5,0.8,1,1]\n",
    "gamma = [0.9,0.9,0.9,0.9,1,1,0.9,0.9,0.9]\n",
    "epsilon = [0.1,0.3,0.5,1,0.5,1,0.5,0.5,1]\n",
    "\n",
    "plt.figure()\n",
    "for m in range(len(alpha)):\n",
    "    for i in range(len(num_of_episodes)):\n",
    "        # Initialize the Q-matrix with zeros\n",
    "        Q = np.zeros((maze.shape[0], maze.shape[1], 4))\n",
    "\n",
    "        # Train the agent for the specified number of episodes\n",
    "        for j in range(num_of_episodes[i]):\n",
    "            _ = run_episode_n_td(alpha[m], gamma[m], epsilon[m], 3, training=True)\n",
    "\n",
    "        #Get maximum value of Q\n",
    "        max_Q[i] = Q.max()\n",
    "    plt.plot(num_of_episodes, max_Q, label = 'alpha = {}, gamma = {}, epsilon = {}'.format(alpha[m], gamma[m], epsilon[m]))\n",
    "\n",
    "plt.legend(loc=(1.04,0.3))\n",
    "plt.title('N-step model for 10 X 10 Maze')\n",
    "plt.xlabel('Number of Episodes')\n",
    "plt.ylabel('Maximum of Q')\n",
    "plt.show()"
   ]
  },
  {
   "cell_type": "code",
   "execution_count": null,
   "id": "7dc27f09",
   "metadata": {},
   "outputs": [],
   "source": []
  }
 ],
 "metadata": {
  "kernelspec": {
   "display_name": "Python 3",
   "language": "python",
   "name": "python3"
  },
  "language_info": {
   "codemirror_mode": {
    "name": "ipython",
    "version": 3
   },
   "file_extension": ".py",
   "mimetype": "text/x-python",
   "name": "python",
   "nbconvert_exporter": "python",
   "pygments_lexer": "ipython3",
   "version": "3.8.8"
  }
 },
 "nbformat": 4,
 "nbformat_minor": 5
}
